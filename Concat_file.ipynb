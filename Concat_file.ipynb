{
 "cells": [
  {
   "cell_type": "code",
   "execution_count": null,
   "metadata": {},
   "outputs": [],
   "source": [
    "# сбор нескольких в один\n",
    "import pandas as pd    \n",
    "# import os\n",
    "# from pathlib import Path\n",
    "import glob\n",
    "# data_dir = Path(r'путь где храняться спарсенные файлы\\data')\n",
    "# если на задавать путь (в случае, если всё в одном рабочем каталоге), то ниже нужно исп. glob.glob\n"
   ]
  },
  {
   "cell_type": "code",
   "execution_count": null,
   "metadata": {},
   "outputs": [],
   "source": [
    "# объединение всех в один датафрейм\n",
    "df_glob = pd.concat([pd.read_csv(f) for f in glob.glob(\"*_train.csv\")], ignore_index=True, sort=False)"
   ]
  },
  {
   "cell_type": "code",
   "execution_count": null,
   "metadata": {},
   "outputs": [],
   "source": [
    "# проверим размер\n",
    "df_glob.shape"
   ]
  },
  {
   "cell_type": "code",
   "execution_count": null,
   "metadata": {},
   "outputs": [],
   "source": [
    "# и запишем в один файл для удобства\n",
    "df_glob.to_csv(\"train.csv\", index=False)\n"
   ]
  }
 ],
 "metadata": {
  "kernelspec": {
   "display_name": "Python 3",
   "language": "python",
   "name": "python3"
  },
  "language_info": {
   "codemirror_mode": {
    "name": "ipython",
    "version": 3
   },
   "file_extension": ".py",
   "mimetype": "text/x-python",
   "name": "python",
   "nbconvert_exporter": "python",
   "pygments_lexer": "ipython3",
   "version": "3.7.4"
  }
 },
 "nbformat": 4,
 "nbformat_minor": 2
}
